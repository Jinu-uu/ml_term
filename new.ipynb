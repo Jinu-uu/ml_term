{
 "cells": [
  {
   "cell_type": "code",
   "execution_count": 151,
   "metadata": {},
   "outputs": [],
   "source": [
    "import pandas as pd\n",
    "import numpy as np\n",
    "import math\n",
    "import scipy as sp\n",
    "import seaborn as sns\n",
    "import matplotlib.pyplot as plt\n",
    "from sklearn.svm import SVC \n",
    "import random\n",
    "from sklearn.mixture import GaussianMixture\n",
    "from sklearn.model_selection import GridSearchCV\n",
    "import librosa\n",
    "import librosa.display\n",
    "\n",
    "import os\n",
    "\n",
    "from itertools import product\n",
    "from tqdm import tqdm\n",
    "\n",
    "import warnings\n",
    "warnings.filterwarnings('ignore')"
   ]
  },
  {
   "cell_type": "code",
   "execution_count": 141,
   "metadata": {},
   "outputs": [],
   "source": [
    "class Audio:\n",
    "    def __init__(self, dir_path, sampling_rate, mfcc_num):\n",
    "        self.dir_path = dir_path\n",
    "        self.sampling_rate = sampling_rate\n",
    "        self.mfcc_num = mfcc_num\n",
    "        self.seed = 42\n",
    "\n",
    "        self.x_train, self.y_train, self.x_test, self.y_test = [], [], [], []\n",
    "        \n",
    "        for index, file in enumerate(os.listdir(dir_path)):\n",
    "            data, _ = librosa.load(f\"{self.dir_path}/{file}\",sr=self.sampling_rate)\n",
    "\n",
    "            train, test = self.fileCut(data[:self.sampling_rate*10], index)\n",
    "\n",
    "            for data in self.toMfcc(train):\n",
    "                self.x_train.append(data)\n",
    "                self.y_train.append(index)\n",
    "\n",
    "            for data in self.toMfcc(test):\n",
    "                self.x_test.append(data)\n",
    "                self.y_test.append(index)\n",
    "                \n",
    "        self.dataShuffle()\n",
    "            \n",
    "    def fileCut(self, data, index):\n",
    "        train = []\n",
    "        test = []\n",
    "        \n",
    "        index = index % 4\n",
    "        \n",
    "        for i in range(0, self.sampling_rate * 10):\n",
    "            if int(self.sampling_rate * 2 * index) <= i and i < int(self.sampling_rate * 2 * (index + 1)):\n",
    "                test.append(data[i])\n",
    "            else:\n",
    "                train.append(data[i])\n",
    "        \n",
    "        return np.array(train), np.array(test)\n",
    "\n",
    "    def toMfcc(self, data):\n",
    "        data_mfcc = librosa.feature.mfcc(y=data, sr=self.sampling_rate, n_mfcc=self.mfcc_num, hop_length=int(self.sampling_rate/100))\n",
    "        return data_mfcc.T\n",
    "\n",
    "    def dataShuffle(self):\n",
    "        train = list(zip(self.x_train, self.y_train))\n",
    "        test = list(zip(self.x_test, self.y_test))\n",
    "\n",
    "        random.shuffle(train)\n",
    "        random.shuffle(test)\n",
    "        \n",
    "        x_train, y_train = zip(*train)\n",
    "        x_test, y_test = zip(*test)\n",
    "\n",
    "        self.x_train = np.array(list(x_train))\n",
    "        self.y_train = np.array(list(y_train))\n",
    "        self.x_test = np.array(list(x_test))\n",
    "        self.y_test = np.array(list(y_test))\n",
    "        \n",
    "\n",
    "    def gmmModel(self, params=None):\n",
    "        class_num = 10\n",
    "        if params == None:\n",
    "            estimator = GaussianMixture(n_components=class_num, covariance_type='tied', max_iter=10, random_state=self.seed)\n",
    "            estimator.means_init = np.array([self.x_train[self.y_train == i].mean(axis=0) for i in range(class_num)])\n",
    "        else:\n",
    "            estimator = GaussianMixture(n_components=class_num, max_iter=10, random_state=self.seed, **params)\n",
    "            estimator.means_init = np.array([self.x_train[self.y_train == i].mean(axis=0) for i in range(class_num)])\n",
    "\n",
    "        estimator.fit(self.x_train)\n",
    "\n",
    "        return estimator.predict(self.x_test)\n",
    "\n",
    "\n",
    "    def svcModel(self, params=None):\n",
    "        if params == None:\n",
    "            model = SVC(C=1.0, kernel='rbf', random_state=self.seed)\n",
    "        else:\n",
    "            model = SVC(random_state=self.seed, **params)\n",
    "\n",
    "        model.fit(self.x_train, self.y_train)\n",
    "\n",
    "        return list(model.predict(self.x_test))\n",
    "    \n",
    "    def scoreMatrix(self, predict):\n",
    "        conf_mat = np.zeros((10,10))\n",
    "        for i in range(len(predict)): conf_mat[predict[i]][self.y_test[i]] +=1\n",
    "        # print(\"confuse matrix\")\n",
    "        # print(conf_mat)\n",
    "        no_correct = 0\n",
    "        for i in range(10): no_correct += conf_mat[i][i]\n",
    "        accuracy = no_correct/len(predict)\n",
    "        # print(\"\\n\\n accuracy\")\n",
    "        # print(no_correct/len(predict))\n",
    "        return conf_mat, accuracy\n",
    "\n",
    "    def scoring(self, predict):\n",
    "        conf_mat = np.zeros((10,10))\n",
    "        for i in range(len(predict)): conf_mat[predict[i]][self.y_test[i]] +=1\n",
    "        no_correct = 0\n",
    "        for i in range(10): no_correct += conf_mat[i][i]\n",
    "        accuracy = no_correct/len(predict)\n",
    "        return accuracy\n",
    "\n",
    "    def tuning(self, model_type:str, params):\n",
    "        best_acc = 0\n",
    "        best_parmas = None\n",
    "\n",
    "        grid_list = [dict(zip(params, v)) for v in product(*params.values())]\n",
    "        \n",
    "        if model_type == 'gmm':\n",
    "            class_num = 10\n",
    "            means_array = np.array([self.x_train[self.y_train == i].mean(axis=0) for i in range(class_num)])\n",
    "            for grid in tqdm(grid_list):\n",
    "                estimator = GaussianMixture(n_components=class_num, max_iter=10, random_state=self.seed, **grid)\n",
    "                estimator.means_init = means_array\n",
    "                estimator.fit(self.x_train)\n",
    "                acc = self.scoring(list(estimator.predict(self.x_test)))\n",
    "                if best_acc <= acc:\n",
    "                    best_acc = acc\n",
    "                    best_parmas = grid\n",
    "\n",
    "            return best_acc, best_parmas\n",
    "        \n",
    "        elif model_type == 'svc':\n",
    "            for grid in tqdm(grid_list):\n",
    "                model = SVC(random_state=self.seed, **grid)\n",
    "                model.fit(self.x_train, self.y_train)\n",
    "                acc = self.scoring(list(model.predict(self.x_test)))\n",
    "                if best_acc <= acc:\n",
    "                    best_acc = acc\n",
    "                    best_parmas = grid\n",
    "            \n",
    "            return best_acc, best_parmas\n",
    "        \n",
    "        else: return None  "
   ]
  },
  {
   "cell_type": "code",
   "execution_count": 153,
   "metadata": {},
   "outputs": [
    {
     "name": "stdout",
     "output_type": "stream",
     "text": [
      "svc hyper parameter tuning ----\n"
     ]
    },
    {
     "name": "stderr",
     "output_type": "stream",
     "text": [
      "100%|██████████| 16/16 [00:26<00:00,  1.64s/it]\n"
     ]
    },
    {
     "name": "stdout",
     "output_type": "stream",
     "text": [
      "best_acc : 0.9398009950248756,\n",
      "best_params : {'kernel': 'rbf', 'C': 2}\n",
      "\n",
      "gmm hyper parameter tuning ----\n"
     ]
    },
    {
     "name": "stderr",
     "output_type": "stream",
     "text": [
      "100%|██████████| 16/16 [00:12<00:00,  1.30it/s]\n"
     ]
    },
    {
     "name": "stdout",
     "output_type": "stream",
     "text": [
      "best_acc : 0.6756218905472637,\n",
      "best_params : {'covariance_type': 'tied', 'tol': 0.1}\n",
      "\n",
      "svc fit ----\n",
      "(array([[173.,   0.,   0.,   0.,   0.,   0.,   0.,   0.,   0.,   0.],\n",
      "       [  0., 197.,   0.,   0.,   0.,   0.,   0.,   0.,   0.,   0.],\n",
      "       [  0.,   4., 201.,   0.,   0.,   3.,   0.,   0.,   0.,   0.],\n",
      "       [  0.,   0.,   0., 198.,   7.,   9.,   0.,   0.,  30.,   0.],\n",
      "       [  1.,   0.,   0.,   0., 180.,   0.,   0.,   0.,   0.,   0.],\n",
      "       [  0.,   0.,   0.,   0.,   7., 174.,   2.,   0.,   0.,   1.],\n",
      "       [ 10.,   0.,   0.,   0.,   0.,   0., 196.,   0.,   0.,   0.],\n",
      "       [ 17.,   0.,   0.,   3.,   0.,   0.,   0., 201.,   0.,   0.],\n",
      "       [  0.,   0.,   0.,   0.,   3.,   9.,   0.,   0., 169.,   0.],\n",
      "       [  0.,   0.,   0.,   0.,   4.,   6.,   3.,   0.,   2., 200.]]), 0.9398009950248756)\n",
      "\n",
      "gmm fit ----\n",
      "(array([[142.,   0.,   0.,   0.,   0.,   0.,   0.,   0.,   0.,   0.],\n",
      "       [  0.,  40.,   3.,   0.,  10.,   8.,   3.,   0.,   0.,   0.],\n",
      "       [  0.,   0., 144.,   0.,   0.,   0.,   0.,   0.,   0.,   0.],\n",
      "       [  0.,   0.,   0., 201.,   7.,  46.,  16.,   0.,  90.,  12.],\n",
      "       [  0.,   0.,   0.,   0.,  29.,   0.,   0.,   0.,   0.,   0.],\n",
      "       [  0.,  37.,   0.,   0.,  50., 143.,   0.,   0.,   1.,   4.],\n",
      "       [ 14.,   0.,   0.,   0.,   0.,   0., 164.,   0.,   0.,   0.],\n",
      "       [ 45., 124.,  54.,   0.,  98.,   0.,   8., 201.,   0.,   0.],\n",
      "       [  0.,   0.,   0.,   0.,   2.,   0.,   0.,   0., 109.,   0.],\n",
      "       [  0.,   0.,   0.,   0.,   5.,   4.,  10.,   0.,   1., 185.]]), 0.6756218905472637)\n"
     ]
    }
   ],
   "source": [
    "random.seed(42)\n",
    "audio_obj = Audio('./test_data2', 16000, 40)\n",
    "    \n",
    "svc_parameters = {'kernel': ('linear','rbf','poly','sigmoid'), 'C':[0.5,1,2,3]}\n",
    "gmm_parmas = {'covariance_type':('full','diag','tied','spherical'), 'tol':(1e-1, 1e-2, 1e-3, 1e-4)}\n",
    "\n",
    "print('svc hyper parameter tuning ----')\n",
    "svc_best_acc, svc_best_parmas = audio_obj.tuning('svc', svc_parameters)\n",
    "print(f\"best_acc : {svc_best_acc},\\nbest_params : {svc_best_parmas}\", end='\\n\\n')\n",
    "\n",
    "print('gmm hyper parameter tuning ----')\n",
    "gmm_best_acc, gmm_best_parmas = audio_obj.tuning('gmm', gmm_parmas)\n",
    "print(f\"best_acc : {gmm_best_acc},\\nbest_params : {gmm_best_parmas}\", end='\\n\\n')\n",
    "\n",
    "print('svc fit ----')\n",
    "svc_model_pred = audio_obj.svcModel(svc_best_parmas)\n",
    "print(audio_obj.scoreMatrix(svc_model_pred), end='\\n\\n')\n",
    "\n",
    "print('gmm fit ----')\n",
    "gmm_model_pred = audio_obj.gmmModel(gmm_best_parmas)\n",
    "print(audio_obj.scoreMatrix(gmm_model_pred))"
   ]
  },
  {
   "cell_type": "code",
   "execution_count": 161,
   "metadata": {},
   "outputs": [
    {
     "name": "stdout",
     "output_type": "stream",
     "text": [
      "svc hyper parameter tuning ----\n"
     ]
    },
    {
     "name": "stderr",
     "output_type": "stream",
     "text": [
      "100%|██████████| 16/16 [01:08<00:00,  4.26s/it]\n"
     ]
    },
    {
     "name": "stdout",
     "output_type": "stream",
     "text": [
      "best_acc : 0.8940298507462686,\n",
      "best_params : {'kernel': 'rbf', 'C': 3}\n",
      "\n",
      "gmm hyper parameter tuning ----\n"
     ]
    },
    {
     "name": "stderr",
     "output_type": "stream",
     "text": [
      "100%|██████████| 8/8 [00:04<00:00,  1.97it/s]\n"
     ]
    },
    {
     "name": "stdout",
     "output_type": "stream",
     "text": [
      "best_acc : 0.6104477611940299,\n",
      "best_params : {'covariance_type': 'tied', 'tol': 0.1}\n",
      "\n",
      "svc fit ----\n",
      "(array([[168.,   0.,   0.,   0.,   0.,   0.,   0.,   0.,   0.,   0.],\n",
      "       [  0., 197.,   0.,   0.,   0.,   0.,   0.,   0.,   0.,   0.],\n",
      "       [  0.,   4., 201.,   0.,   0.,   0.,   0.,   0.,   0.,   0.],\n",
      "       [  0.,   0.,   0., 198.,  12.,  10.,   1.,   0.,   0.,   0.],\n",
      "       [  0.,   0.,   0.,   0., 189.,   0.,   0.,   0.,   0.,   0.],\n",
      "       [ 10.,   0.,   0.,   0.,   0., 190.,  13.,   1.,  25.,   0.],\n",
      "       [ 13.,   0.,   0.,   0.,   0.,   0., 177.,   4.,   5.,   0.],\n",
      "       [  5.,   0.,   0.,   0.,   0.,   1.,   0., 167.,  56.,   3.],\n",
      "       [  0.,   0.,   0.,   0.,   0.,   0.,  10.,  29., 112.,   0.],\n",
      "       [  5.,   0.,   0.,   3.,   0.,   0.,   0.,   0.,   3., 198.]]), 0.8940298507462686)\n",
      "\n",
      "gmm fit ----\n",
      "(array([[139.,   0.,   0.,   0.,   0.,   0.,   0.,   0.,   0.,   0.],\n",
      "       [  0.,  76.,   0.,   0.,   3.,   0.,   0.,   0.,   0.,   0.],\n",
      "       [  0.,   0., 146.,   0.,   8.,   0.,   0.,   0.,   0.,   0.],\n",
      "       [  0.,   0.,   0., 195.,   7.,   6.,   0.,   6.,   0.,   0.],\n",
      "       [  0.,   0.,   1.,   0.,  79.,   0.,   0.,   0.,   0.,   0.],\n",
      "       [ 12.,   0.,   0.,   0.,   0., 132.,   8.,   0.,  27.,   1.],\n",
      "       [ 20.,   0.,   0.,   0.,   2.,  23., 137.,   4.,   2.,   2.],\n",
      "       [  7.,   0.,   0.,   0.,   0.,  34.,   2.,  54.,  28.,   3.],\n",
      "       [  0.,   0.,   1.,   0.,   4.,   5.,  19.,  35.,  83.,   9.],\n",
      "       [ 23., 125.,  53.,   6.,  98.,   1.,  35., 102.,  61., 186.]]), 0.6104477611940299)\n"
     ]
    }
   ],
   "source": [
    "random.seed(42)\n",
    "audio_obj = Audio('./data', 16000, 40)\n",
    "    \n",
    "svc_parameters = {'kernel': ('linear','rbf','poly','sigmoid'), 'C':[0.5,1,2,3]}\n",
    "gmm_parmas = {'covariance_type':('diag','tied'), 'tol':(1e-1, 1e-2, 1e-3, 1e-4)}\n",
    "\n",
    "print('svc hyper parameter tuning ----')\n",
    "svc_best_acc, svc_best_parmas = audio_obj.tuning('svc', svc_parameters)\n",
    "print(f\"best_acc : {svc_best_acc},\\nbest_params : {svc_best_parmas}\", end='\\n\\n')\n",
    "\n",
    "print('gmm hyper parameter tuning ----')\n",
    "gmm_best_acc, gmm_best_parmas = audio_obj.tuning('gmm', gmm_parmas)\n",
    "print(f\"best_acc : {gmm_best_acc},\\nbest_params : {gmm_best_parmas}\", end='\\n\\n')\n",
    "\n",
    "print('svc fit ----')\n",
    "svc_model_pred = audio_obj.svcModel(svc_best_parmas)\n",
    "print(audio_obj.scoreMatrix(svc_model_pred), end='\\n\\n')\n",
    "\n",
    "print('gmm fit ----')\n",
    "gmm_model_pred = audio_obj.gmmModel(gmm_best_parmas)\n",
    "print(audio_obj.scoreMatrix(gmm_model_pred))"
   ]
  },
  {
   "cell_type": "code",
   "execution_count": 162,
   "metadata": {},
   "outputs": [
    {
     "name": "stdout",
     "output_type": "stream",
     "text": [
      "svc hyper parameter tuning ----\n"
     ]
    },
    {
     "name": "stderr",
     "output_type": "stream",
     "text": [
      "100%|██████████| 16/16 [00:30<00:00,  1.89s/it]\n"
     ]
    },
    {
     "name": "stdout",
     "output_type": "stream",
     "text": [
      "best_acc : 0.9442786069651742,\n",
      "best_params : {'kernel': 'rbf', 'C': 2}\n",
      "\n",
      "gmm hyper parameter tuning ----\n"
     ]
    },
    {
     "name": "stderr",
     "output_type": "stream",
     "text": [
      "100%|██████████| 16/16 [00:20<00:00,  1.26s/it]\n"
     ]
    },
    {
     "name": "stdout",
     "output_type": "stream",
     "text": [
      "best_acc : 0.8159203980099502,\n",
      "best_params : {'covariance_type': 'tied', 'tol': 0.01}\n",
      "\n",
      "svc fit ----\n",
      "(array([[177.,   0.,   0.,   0.,   0.,   0.,   0.,   0.,   0.,   0.],\n",
      "       [  0., 197.,   0.,   0.,   0.,   0.,   0.,   0.,   0.,   0.],\n",
      "       [  0.,   4., 201.,   0.,   0.,   0.,   0.,   0.,   0.,   0.],\n",
      "       [  0.,   0.,   0., 198.,   8.,   6.,   0.,   0.,  25.,   0.],\n",
      "       [  0.,   0.,   0.,   0., 170.,   0.,   0.,   0.,   0.,   0.],\n",
      "       [  0.,   0.,   0.,   0.,  22., 190.,   4.,   0.,   0.,   0.],\n",
      "       [ 10.,   0.,   0.,   0.,   0.,   0., 194.,   0.,   0.,   0.],\n",
      "       [ 14.,   0.,   0.,   3.,   0.,   0.,   0., 201.,   0.,   0.],\n",
      "       [  0.,   0.,   0.,   0.,   1.,   0.,   0.,   0., 176.,   7.],\n",
      "       [  0.,   0.,   0.,   0.,   0.,   5.,   3.,   0.,   0., 194.]]), 0.9442786069651742)\n",
      "\n",
      "gmm fit ----\n",
      "(array([[153.,   0.,   0.,   0.,   0.,   0.,   0.,   0.,   0.,   0.],\n",
      "       [ 13., 194.,  56.,   0.,  99.,   0.,   0.,   0.,   0.,   0.],\n",
      "       [  0.,   0., 144.,   0.,   0.,   0.,   0.,   0.,   0.,   0.],\n",
      "       [  0.,   0.,   0., 201.,  12.,  21.,   0.,   0.,  22.,   7.],\n",
      "       [  0.,   0.,   0.,   0.,  23.,   0.,   0.,   0.,   0.,   0.],\n",
      "       [  1.,   7.,   0.,   0.,  62., 176.,   0.,   0.,   0.,   3.],\n",
      "       [ 17.,   0.,   0.,   0.,   5.,   0., 189.,   0.,   0.,   0.],\n",
      "       [ 17.,   0.,   0.,   0.,   0.,   0.,   0., 201.,   0.,   0.],\n",
      "       [  0.,   0.,   1.,   0.,   0.,   4.,   0.,   0., 179.,  11.],\n",
      "       [  0.,   0.,   0.,   0.,   0.,   0.,  12.,   0.,   0., 180.]]), 0.8159203980099502)\n"
     ]
    }
   ],
   "source": [
    "random.seed(42)\n",
    "audio_obj = Audio('./test_data2', 16000, 70)\n",
    "    \n",
    "svc_parameters = {'kernel': ('linear','rbf','poly','sigmoid'), 'C':[0.5,1,2,3]}\n",
    "gmm_parmas = {'covariance_type':('full','diag','tied','spherical'), 'tol':(1e-1, 1e-2, 1e-3, 1e-4)}\n",
    "\n",
    "print('svc hyper parameter tuning ----')\n",
    "svc_best_acc, svc_best_parmas = audio_obj.tuning('svc', svc_parameters)\n",
    "print(f\"best_acc : {svc_best_acc},\\nbest_params : {svc_best_parmas}\", end='\\n\\n')\n",
    "\n",
    "print('gmm hyper parameter tuning ----')\n",
    "gmm_best_acc, gmm_best_parmas = audio_obj.tuning('gmm', gmm_parmas)\n",
    "print(f\"best_acc : {gmm_best_acc},\\nbest_params : {gmm_best_parmas}\", end='\\n\\n')\n",
    "\n",
    "print('svc fit ----')\n",
    "svc_model_pred = audio_obj.svcModel(svc_best_parmas)\n",
    "print(audio_obj.scoreMatrix(svc_model_pred), end='\\n\\n')\n",
    "\n",
    "print('gmm fit ----')\n",
    "gmm_model_pred = audio_obj.gmmModel(gmm_best_parmas)\n",
    "print(audio_obj.scoreMatrix(gmm_model_pred))"
   ]
  },
  {
   "cell_type": "code",
   "execution_count": null,
   "metadata": {},
   "outputs": [],
   "source": [
    "    "
   ]
  }
 ],
 "metadata": {
  "kernelspec": {
   "display_name": "ml",
   "language": "python",
   "name": "python3"
  },
  "language_info": {
   "codemirror_mode": {
    "name": "ipython",
    "version": 3
   },
   "file_extension": ".py",
   "mimetype": "text/x-python",
   "name": "python",
   "nbconvert_exporter": "python",
   "pygments_lexer": "ipython3",
   "version": "3.8.19"
  }
 },
 "nbformat": 4,
 "nbformat_minor": 2
}
